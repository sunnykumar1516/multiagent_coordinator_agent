{
 "cells": [
  {
   "cell_type": "code",
   "execution_count": 7,
   "metadata": {},
   "outputs": [],
   "source": [
    "import pandas as pd\n",
    "import os\n",
    "import yaml"
   ]
  },
  {
   "cell_type": "code",
   "execution_count": 6,
   "metadata": {},
   "outputs": [
    {
     "data": {
      "text/plain": [
       "'/Volumes/sunny333/code/genAI/ResumeAiAgent'"
      ]
     },
     "execution_count": 6,
     "metadata": {},
     "output_type": "execute_result"
    }
   ],
   "source": [
    "os.getcwd()"
   ]
  },
  {
   "cell_type": "code",
   "execution_count": 5,
   "metadata": {},
   "outputs": [
    {
     "data": {
      "text/plain": [
       "'/Volumes/sunny333/code/genAI/ResumeAiAgent'"
      ]
     },
     "execution_count": 5,
     "metadata": {},
     "output_type": "execute_result"
    }
   ],
   "source": [
    "new_path = \"/Volumes/sunny333/code/genAI/ResumeAiAgent/\"\n",
    "os.chdir(new_path)\n",
    "os.getcwd()"
   ]
  },
  {
   "cell_type": "code",
   "execution_count": null,
   "metadata": {},
   "outputs": [],
   "source": [
    "\n"
   ]
  },
  {
   "cell_type": "code",
   "execution_count": 8,
   "metadata": {},
   "outputs": [
    {
     "data": {
      "text/plain": [
       "{'input': 'data/raw/resume_data.csv', 'output': 'data/cleaned/data.csv'}"
      ]
     },
     "execution_count": 8,
     "metadata": {},
     "output_type": "execute_result"
    }
   ],
   "source": [
    "path = \"params.yaml\"\n",
    "params=yaml.safe_load(open(path))['preprocess']\n",
    "params"
   ]
  },
  {
   "cell_type": "code",
   "execution_count": 9,
   "metadata": {},
   "outputs": [
    {
     "data": {
      "text/html": [
       "<div>\n",
       "<style scoped>\n",
       "    .dataframe tbody tr th:only-of-type {\n",
       "        vertical-align: middle;\n",
       "    }\n",
       "\n",
       "    .dataframe tbody tr th {\n",
       "        vertical-align: top;\n",
       "    }\n",
       "\n",
       "    .dataframe thead th {\n",
       "        text-align: right;\n",
       "    }\n",
       "</style>\n",
       "<table border=\"1\" class=\"dataframe\">\n",
       "  <thead>\n",
       "    <tr style=\"text-align: right;\">\n",
       "      <th></th>\n",
       "      <th>address</th>\n",
       "      <th>career_objective</th>\n",
       "      <th>skills</th>\n",
       "      <th>educational_institution_name</th>\n",
       "      <th>degree_names</th>\n",
       "      <th>passing_years</th>\n",
       "      <th>educational_results</th>\n",
       "      <th>result_types</th>\n",
       "      <th>major_field_of_studies</th>\n",
       "      <th>professional_company_names</th>\n",
       "      <th>...</th>\n",
       "      <th>online_links</th>\n",
       "      <th>issue_dates</th>\n",
       "      <th>expiry_dates</th>\n",
       "      <th>﻿job_position_name</th>\n",
       "      <th>educationaL_requirements</th>\n",
       "      <th>experiencere_requirement</th>\n",
       "      <th>age_requirement</th>\n",
       "      <th>responsibilities.1</th>\n",
       "      <th>skills_required</th>\n",
       "      <th>matched_score</th>\n",
       "    </tr>\n",
       "  </thead>\n",
       "  <tbody>\n",
       "    <tr>\n",
       "      <th>0</th>\n",
       "      <td>NaN</td>\n",
       "      <td>Big data analytics working and database wareho...</td>\n",
       "      <td>['Big Data', 'Hadoop', 'Hive', 'Python', 'Mapr...</td>\n",
       "      <td>['The Amity School of Engineering &amp; Technology...</td>\n",
       "      <td>['B.Tech']</td>\n",
       "      <td>['2019']</td>\n",
       "      <td>['N/A']</td>\n",
       "      <td>[None]</td>\n",
       "      <td>['Electronics']</td>\n",
       "      <td>['Coca-COla']</td>\n",
       "      <td>...</td>\n",
       "      <td>NaN</td>\n",
       "      <td>NaN</td>\n",
       "      <td>NaN</td>\n",
       "      <td>Senior Software Engineer</td>\n",
       "      <td>B.Sc in Computer Science &amp; Engineering from a ...</td>\n",
       "      <td>At least 1 year</td>\n",
       "      <td>NaN</td>\n",
       "      <td>Technical Support\\nTroubleshooting\\nCollaborat...</td>\n",
       "      <td>NaN</td>\n",
       "      <td>0.850000</td>\n",
       "    </tr>\n",
       "    <tr>\n",
       "      <th>1</th>\n",
       "      <td>NaN</td>\n",
       "      <td>Fresher looking to join as a data analyst and ...</td>\n",
       "      <td>['Data Analysis', 'Data Analytics', 'Business ...</td>\n",
       "      <td>['Delhi University - Hansraj College', 'Delhi ...</td>\n",
       "      <td>['B.Sc (Maths)', 'M.Sc (Science) (Statistics)']</td>\n",
       "      <td>['2015', '2018']</td>\n",
       "      <td>['N/A', 'N/A']</td>\n",
       "      <td>['N/A', 'N/A']</td>\n",
       "      <td>['Mathematics', 'Statistics']</td>\n",
       "      <td>['BIB Consultancy']</td>\n",
       "      <td>...</td>\n",
       "      <td>NaN</td>\n",
       "      <td>NaN</td>\n",
       "      <td>NaN</td>\n",
       "      <td>Machine Learning (ML) Engineer</td>\n",
       "      <td>M.Sc in Computer Science &amp; Engineering or in a...</td>\n",
       "      <td>At least 5 year(s)</td>\n",
       "      <td>NaN</td>\n",
       "      <td>Machine Learning Leadership\\nCross-Functional ...</td>\n",
       "      <td>NaN</td>\n",
       "      <td>0.750000</td>\n",
       "    </tr>\n",
       "    <tr>\n",
       "      <th>2</th>\n",
       "      <td>NaN</td>\n",
       "      <td>NaN</td>\n",
       "      <td>['Software Development', 'Machine Learning', '...</td>\n",
       "      <td>['Birla Institute of Technology (BIT), Ranchi']</td>\n",
       "      <td>['B.Tech']</td>\n",
       "      <td>['2018']</td>\n",
       "      <td>['N/A']</td>\n",
       "      <td>['N/A']</td>\n",
       "      <td>['Electronics/Telecommunication']</td>\n",
       "      <td>['Axis Bank Limited']</td>\n",
       "      <td>...</td>\n",
       "      <td>NaN</td>\n",
       "      <td>NaN</td>\n",
       "      <td>NaN</td>\n",
       "      <td>Executive/ Senior Executive- Trade Marketing, ...</td>\n",
       "      <td>Master of Business Administration (MBA)</td>\n",
       "      <td>At least 3 years</td>\n",
       "      <td>NaN</td>\n",
       "      <td>Trade Marketing Executive\\nBrand Visibility, S...</td>\n",
       "      <td>Brand Promotion\\nCampaign Management\\nField Su...</td>\n",
       "      <td>0.416667</td>\n",
       "    </tr>\n",
       "    <tr>\n",
       "      <th>3</th>\n",
       "      <td>NaN</td>\n",
       "      <td>To obtain a position in a fast-paced business ...</td>\n",
       "      <td>['accounts payables', 'accounts receivables', ...</td>\n",
       "      <td>['Martinez Adult Education, Business Training ...</td>\n",
       "      <td>['Computer Applications Specialist Certificate...</td>\n",
       "      <td>['2008']</td>\n",
       "      <td>[None]</td>\n",
       "      <td>[None]</td>\n",
       "      <td>['Computer Applications']</td>\n",
       "      <td>['Company Name ï¼ City , State', 'Company Name...</td>\n",
       "      <td>...</td>\n",
       "      <td>NaN</td>\n",
       "      <td>NaN</td>\n",
       "      <td>NaN</td>\n",
       "      <td>Business Development Executive</td>\n",
       "      <td>Bachelor/Honors</td>\n",
       "      <td>1 to 3 years</td>\n",
       "      <td>Age 22 to 30 years</td>\n",
       "      <td>Apparel Sourcing\\nQuality Garment Sourcing\\nRe...</td>\n",
       "      <td>Fast typing skill\\nIELTSInternet browsing &amp; on...</td>\n",
       "      <td>0.760000</td>\n",
       "    </tr>\n",
       "    <tr>\n",
       "      <th>4</th>\n",
       "      <td>NaN</td>\n",
       "      <td>Professional accountant with an outstanding wo...</td>\n",
       "      <td>['Analytical reasoning', 'Compliance testing k...</td>\n",
       "      <td>['Kent State University']</td>\n",
       "      <td>['Bachelor of Business Administration']</td>\n",
       "      <td>[None]</td>\n",
       "      <td>['3.84']</td>\n",
       "      <td>[None]</td>\n",
       "      <td>['Accounting']</td>\n",
       "      <td>['Company Name', 'Company Name', 'Company Name...</td>\n",
       "      <td>...</td>\n",
       "      <td>[None]</td>\n",
       "      <td>[None]</td>\n",
       "      <td>['February 15, 2021']</td>\n",
       "      <td>Senior iOS Engineer</td>\n",
       "      <td>Bachelor of Science (BSc) in Computer Science</td>\n",
       "      <td>At least 4 years</td>\n",
       "      <td>NaN</td>\n",
       "      <td>iOS Lifecycle\\nRequirement Analysis\\nNative Fr...</td>\n",
       "      <td>iOS\\niOS App Developer\\niOS Application Develo...</td>\n",
       "      <td>0.650000</td>\n",
       "    </tr>\n",
       "  </tbody>\n",
       "</table>\n",
       "<p>5 rows × 35 columns</p>\n",
       "</div>"
      ],
      "text/plain": [
       "  address                                   career_objective  \\\n",
       "0     NaN  Big data analytics working and database wareho...   \n",
       "1     NaN  Fresher looking to join as a data analyst and ...   \n",
       "2     NaN                                                NaN   \n",
       "3     NaN  To obtain a position in a fast-paced business ...   \n",
       "4     NaN  Professional accountant with an outstanding wo...   \n",
       "\n",
       "                                              skills  \\\n",
       "0  ['Big Data', 'Hadoop', 'Hive', 'Python', 'Mapr...   \n",
       "1  ['Data Analysis', 'Data Analytics', 'Business ...   \n",
       "2  ['Software Development', 'Machine Learning', '...   \n",
       "3  ['accounts payables', 'accounts receivables', ...   \n",
       "4  ['Analytical reasoning', 'Compliance testing k...   \n",
       "\n",
       "                        educational_institution_name  \\\n",
       "0  ['The Amity School of Engineering & Technology...   \n",
       "1  ['Delhi University - Hansraj College', 'Delhi ...   \n",
       "2    ['Birla Institute of Technology (BIT), Ranchi']   \n",
       "3  ['Martinez Adult Education, Business Training ...   \n",
       "4                          ['Kent State University']   \n",
       "\n",
       "                                        degree_names     passing_years  \\\n",
       "0                                         ['B.Tech']          ['2019']   \n",
       "1    ['B.Sc (Maths)', 'M.Sc (Science) (Statistics)']  ['2015', '2018']   \n",
       "2                                         ['B.Tech']          ['2018']   \n",
       "3  ['Computer Applications Specialist Certificate...          ['2008']   \n",
       "4            ['Bachelor of Business Administration']            [None]   \n",
       "\n",
       "  educational_results    result_types             major_field_of_studies  \\\n",
       "0             ['N/A']          [None]                    ['Electronics']   \n",
       "1      ['N/A', 'N/A']  ['N/A', 'N/A']      ['Mathematics', 'Statistics']   \n",
       "2             ['N/A']         ['N/A']  ['Electronics/Telecommunication']   \n",
       "3              [None]          [None]          ['Computer Applications']   \n",
       "4            ['3.84']          [None]                     ['Accounting']   \n",
       "\n",
       "                          professional_company_names  ... online_links  \\\n",
       "0                                      ['Coca-COla']  ...          NaN   \n",
       "1                                ['BIB Consultancy']  ...          NaN   \n",
       "2                              ['Axis Bank Limited']  ...          NaN   \n",
       "3  ['Company Name ï¼ City , State', 'Company Name...  ...          NaN   \n",
       "4  ['Company Name', 'Company Name', 'Company Name...  ...       [None]   \n",
       "\n",
       "  issue_dates           expiry_dates  \\\n",
       "0         NaN                    NaN   \n",
       "1         NaN                    NaN   \n",
       "2         NaN                    NaN   \n",
       "3         NaN                    NaN   \n",
       "4      [None]  ['February 15, 2021']   \n",
       "\n",
       "                                  ﻿job_position_name  \\\n",
       "0                           Senior Software Engineer   \n",
       "1                     Machine Learning (ML) Engineer   \n",
       "2  Executive/ Senior Executive- Trade Marketing, ...   \n",
       "3                     Business Development Executive   \n",
       "4                                Senior iOS Engineer   \n",
       "\n",
       "                            educationaL_requirements experiencere_requirement  \\\n",
       "0  B.Sc in Computer Science & Engineering from a ...          At least 1 year   \n",
       "1  M.Sc in Computer Science & Engineering or in a...       At least 5 year(s)   \n",
       "2            Master of Business Administration (MBA)         At least 3 years   \n",
       "3                                    Bachelor/Honors             1 to 3 years   \n",
       "4      Bachelor of Science (BSc) in Computer Science         At least 4 years   \n",
       "\n",
       "      age_requirement                                 responsibilities.1  \\\n",
       "0                 NaN  Technical Support\\nTroubleshooting\\nCollaborat...   \n",
       "1                 NaN  Machine Learning Leadership\\nCross-Functional ...   \n",
       "2                 NaN  Trade Marketing Executive\\nBrand Visibility, S...   \n",
       "3  Age 22 to 30 years  Apparel Sourcing\\nQuality Garment Sourcing\\nRe...   \n",
       "4                 NaN  iOS Lifecycle\\nRequirement Analysis\\nNative Fr...   \n",
       "\n",
       "                                     skills_required matched_score  \n",
       "0                                                NaN      0.850000  \n",
       "1                                                NaN      0.750000  \n",
       "2  Brand Promotion\\nCampaign Management\\nField Su...      0.416667  \n",
       "3  Fast typing skill\\nIELTSInternet browsing & on...      0.760000  \n",
       "4  iOS\\niOS App Developer\\niOS Application Develo...      0.650000  \n",
       "\n",
       "[5 rows x 35 columns]"
      ]
     },
     "execution_count": 9,
     "metadata": {},
     "output_type": "execute_result"
    }
   ],
   "source": [
    "data = pd.read_csv(params['input'])\n",
    "data.head()"
   ]
  },
  {
   "cell_type": "code",
   "execution_count": 11,
   "metadata": {},
   "outputs": [],
   "source": [
    "from pydantic import BaseModel,ValidationError"
   ]
  },
  {
   "cell_type": "code",
   "execution_count": 12,
   "metadata": {},
   "outputs": [],
   "source": [
    "given_requirments = {\n",
    "  \"skills\": [\"Python\", \"TensorFlow\", \"ML\"],\n",
    "  \"experience\": \"3+ years\",\n",
    "  \"education\": \"Bachelor's in CS or equivalent\",\n",
    "  \"keywords\": [\"data pipeline\", \"model training\", \"deployment\"]\n",
    "}"
   ]
  },
  {
   "cell_type": "code",
   "execution_count": 17,
   "metadata": {},
   "outputs": [],
   "source": [
    "class MyRequirments(BaseModel):\n",
    "    skills: list\n",
    "    experience:str\n",
    "    education:str\n",
    "    keywords:list\n"
   ]
  },
  {
   "cell_type": "code",
   "execution_count": 19,
   "metadata": {},
   "outputs": [
    {
     "name": "stdout",
     "output_type": "stream",
     "text": [
      "valid\n"
     ]
    }
   ],
   "source": [
    "try:\n",
    "    MyRequirments(**given_requirments)  \n",
    "    print(\"valid\")\n",
    "except ValidationError as e:\n",
    "    print(\"-----\",e.errors())"
   ]
  },
  {
   "cell_type": "code",
   "execution_count": null,
   "metadata": {},
   "outputs": [],
   "source": [
    "class User(BaseModel):\n",
    "    skills: list\n",
    "    experience:str\n",
    "    education:str\n",
    "    \n",
    "    \n",
    "    "
   ]
  },
  {
   "cell_type": "code",
   "execution_count": 21,
   "metadata": {},
   "outputs": [
    {
     "data": {
      "text/plain": [
       "Index(['address', 'career_objective', 'skills', 'educational_institution_name',\n",
       "       'degree_names', 'passing_years', 'educational_results', 'result_types',\n",
       "       'major_field_of_studies', 'professional_company_names', 'company_urls',\n",
       "       'start_dates', 'end_dates', 'related_skils_in_job', 'positions',\n",
       "       'locations', 'responsibilities', 'extra_curricular_activity_types',\n",
       "       'extra_curricular_organization_names',\n",
       "       'extra_curricular_organization_links', 'role_positions', 'languages',\n",
       "       'proficiency_levels', 'certification_providers', 'certification_skills',\n",
       "       'online_links', 'issue_dates', 'expiry_dates', '﻿job_position_name',\n",
       "       'educationaL_requirements', 'experiencere_requirement',\n",
       "       'age_requirement', 'responsibilities.1', 'skills_required',\n",
       "       'matched_score'],\n",
       "      dtype='object')"
      ]
     },
     "execution_count": 21,
     "metadata": {},
     "output_type": "execute_result"
    }
   ],
   "source": [
    "data.columns"
   ]
  },
  {
   "cell_type": "code",
   "execution_count": null,
   "metadata": {},
   "outputs": [],
   "source": [
    " = [\"skills\",\"degree_names\",\"professional_company_names\",\n",
    "               \"related_skils_in_job\",'start_dates', 'end_dates'\n",
    "               ]\n",
    "req_colums=[\"skills_required\",\"educationaL_requirements\",\"experiencere_requirement\"]user_colums"
   ]
  },
  {
   "cell_type": "code",
   "execution_count": 23,
   "metadata": {},
   "outputs": [
    {
     "data": {
      "text/html": [
       "<div>\n",
       "<style scoped>\n",
       "    .dataframe tbody tr th:only-of-type {\n",
       "        vertical-align: middle;\n",
       "    }\n",
       "\n",
       "    .dataframe tbody tr th {\n",
       "        vertical-align: top;\n",
       "    }\n",
       "\n",
       "    .dataframe thead th {\n",
       "        text-align: right;\n",
       "    }\n",
       "</style>\n",
       "<table border=\"1\" class=\"dataframe\">\n",
       "  <thead>\n",
       "    <tr style=\"text-align: right;\">\n",
       "      <th></th>\n",
       "      <th>skills</th>\n",
       "      <th>degree_names</th>\n",
       "      <th>professional_company_names</th>\n",
       "      <th>related_skils_in_job</th>\n",
       "      <th>start_dates</th>\n",
       "      <th>end_dates</th>\n",
       "    </tr>\n",
       "  </thead>\n",
       "  <tbody>\n",
       "    <tr>\n",
       "      <th>0</th>\n",
       "      <td>['Big Data', 'Hadoop', 'Hive', 'Python', 'Mapr...</td>\n",
       "      <td>['B.Tech']</td>\n",
       "      <td>['Coca-COla']</td>\n",
       "      <td>[['Big Data']]</td>\n",
       "      <td>['Nov 2019']</td>\n",
       "      <td>['Till Date']</td>\n",
       "    </tr>\n",
       "    <tr>\n",
       "      <th>1</th>\n",
       "      <td>['Data Analysis', 'Data Analytics', 'Business ...</td>\n",
       "      <td>['B.Sc (Maths)', 'M.Sc (Science) (Statistics)']</td>\n",
       "      <td>['BIB Consultancy']</td>\n",
       "      <td>[['Data Analysis', 'Business Analysis', 'Machi...</td>\n",
       "      <td>['Sep 2019']</td>\n",
       "      <td>['Till Date']</td>\n",
       "    </tr>\n",
       "    <tr>\n",
       "      <th>2</th>\n",
       "      <td>['Software Development', 'Machine Learning', '...</td>\n",
       "      <td>['B.Tech']</td>\n",
       "      <td>['Axis Bank Limited']</td>\n",
       "      <td>[['Unified Payment Interface', 'Risk Predictio...</td>\n",
       "      <td>['June 2018']</td>\n",
       "      <td>['Till Date']</td>\n",
       "    </tr>\n",
       "    <tr>\n",
       "      <th>3</th>\n",
       "      <td>['accounts payables', 'accounts receivables', ...</td>\n",
       "      <td>['Computer Applications Specialist Certificate...</td>\n",
       "      <td>['Company Name ï¼ City , State', 'Company Name...</td>\n",
       "      <td>[['accounts receivables', 'banking', 'G/L Acco...</td>\n",
       "      <td>['January 2011', 'January 2008', 'January 2006...</td>\n",
       "      <td>['November 2015', 'January 2010', 'January 200...</td>\n",
       "    </tr>\n",
       "    <tr>\n",
       "      <th>4</th>\n",
       "      <td>['Analytical reasoning', 'Compliance testing k...</td>\n",
       "      <td>['Bachelor of Business Administration']</td>\n",
       "      <td>['Company Name', 'Company Name', 'Company Name...</td>\n",
       "      <td>[['collections', 'accounts receivable', 'finan...</td>\n",
       "      <td>['January 2016', 'January 2016', 'January 2012...</td>\n",
       "      <td>['Current', 'January 2016', 'January 2015', 'J...</td>\n",
       "    </tr>\n",
       "  </tbody>\n",
       "</table>\n",
       "</div>"
      ],
      "text/plain": [
       "                                              skills  \\\n",
       "0  ['Big Data', 'Hadoop', 'Hive', 'Python', 'Mapr...   \n",
       "1  ['Data Analysis', 'Data Analytics', 'Business ...   \n",
       "2  ['Software Development', 'Machine Learning', '...   \n",
       "3  ['accounts payables', 'accounts receivables', ...   \n",
       "4  ['Analytical reasoning', 'Compliance testing k...   \n",
       "\n",
       "                                        degree_names  \\\n",
       "0                                         ['B.Tech']   \n",
       "1    ['B.Sc (Maths)', 'M.Sc (Science) (Statistics)']   \n",
       "2                                         ['B.Tech']   \n",
       "3  ['Computer Applications Specialist Certificate...   \n",
       "4            ['Bachelor of Business Administration']   \n",
       "\n",
       "                          professional_company_names  \\\n",
       "0                                      ['Coca-COla']   \n",
       "1                                ['BIB Consultancy']   \n",
       "2                              ['Axis Bank Limited']   \n",
       "3  ['Company Name ï¼ City , State', 'Company Name...   \n",
       "4  ['Company Name', 'Company Name', 'Company Name...   \n",
       "\n",
       "                                related_skils_in_job  \\\n",
       "0                                     [['Big Data']]   \n",
       "1  [['Data Analysis', 'Business Analysis', 'Machi...   \n",
       "2  [['Unified Payment Interface', 'Risk Predictio...   \n",
       "3  [['accounts receivables', 'banking', 'G/L Acco...   \n",
       "4  [['collections', 'accounts receivable', 'finan...   \n",
       "\n",
       "                                         start_dates  \\\n",
       "0                                       ['Nov 2019']   \n",
       "1                                       ['Sep 2019']   \n",
       "2                                      ['June 2018']   \n",
       "3  ['January 2011', 'January 2008', 'January 2006...   \n",
       "4  ['January 2016', 'January 2016', 'January 2012...   \n",
       "\n",
       "                                           end_dates  \n",
       "0                                      ['Till Date']  \n",
       "1                                      ['Till Date']  \n",
       "2                                      ['Till Date']  \n",
       "3  ['November 2015', 'January 2010', 'January 200...  \n",
       "4  ['Current', 'January 2016', 'January 2015', 'J...  "
      ]
     },
     "execution_count": 23,
     "metadata": {},
     "output_type": "execute_result"
    }
   ],
   "source": [
    "data_user = data[user_colums]\n",
    "data_user.head()"
   ]
  }
 ],
 "metadata": {
  "kernelspec": {
   "display_name": ".venv",
   "language": "python",
   "name": "python3"
  },
  "language_info": {
   "codemirror_mode": {
    "name": "ipython",
    "version": 3
   },
   "file_extension": ".py",
   "mimetype": "text/x-python",
   "name": "python",
   "nbconvert_exporter": "python",
   "pygments_lexer": "ipython3",
   "version": "3.13.1"
  }
 },
 "nbformat": 4,
 "nbformat_minor": 2
}
